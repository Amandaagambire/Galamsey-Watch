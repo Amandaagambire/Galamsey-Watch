{
  "nbformat": 4,
  "nbformat_minor": 0,
  "metadata": {
    "colab": {
      "provenance": [],
      "include_colab_link": true
    },
    "kernelspec": {
      "name": "python3",
      "display_name": "Python 3"
    },
    "language_info": {
      "name": "python"
    }
  },
  "cells": [
    {
      "cell_type": "markdown",
      "metadata": {
        "id": "view-in-github",
        "colab_type": "text"
      },
      "source": [
        "<a href=\"https://colab.research.google.com/github/Amandaagambire/Galamsey-Watch/blob/main/Galamsey%20Watch%20Main.ipynb\" target=\"_parent\"><img src=\"https://colab.research.google.com/assets/colab-badge.svg\" alt=\"Open In Colab\"/></a>"
      ]
    },
    {
      "cell_type": "markdown",
      "source": [
        "# **Install Earth Engine**"
      ],
      "metadata": {
        "id": "Yg5BtzUQU6Qy"
      }
    },
    {
      "cell_type": "code",
      "execution_count": null,
      "metadata": {
        "id": "qikoNBhvUQDO"
      },
      "outputs": [],
      "source": [
        "\n",
        "!pip install geemap\n",
        "!pip install folium\n",
        "!pip install rasterio\n",
        "!pip install segmentation-models-pytorch\n",
        "!pip install pyngrok\n",
        "!pip install flask\n",
        "!pip install earthengine-api --upgrade\n"
      ]
    },
    {
      "cell_type": "markdown",
      "source": [
        "# **Authenticate & Initialize earth engine**"
      ],
      "metadata": {
        "id": "5wWtyLKPU9C9"
      }
    },
    {
      "cell_type": "code",
      "source": [
        "from google.colab import drive\n",
        "import ee\n",
        "import geemap\n",
        "import folium\n",
        "import rasterio\n",
        "from PIL import Image\n",
        "import numpy as np\n",
        "import os\n",
        "import numpy as np\n",
        "from google.colab import drive\n",
        "from skimage.color import rgb2gray\n",
        "from skimage.feature import graycomatrix, graycoprops\n",
        "import pandas as pd\n",
        "import torch\n",
        "import torch.nn as nn\n",
        "from torchvision import transforms\n",
        "import shutil\n",
        "from google.colab.output import eval_js\n",
        "from pyngrok import ngrok\n",
        "# from flask import Flask, request, jsonify, render_template\n",
        "\n",
        "\n",
        "\n",
        "\n",
        "# Mount Google Drive\n",
        "drive.mount('/content/drive')\n",
        "\n",
        "#Authenticae then initialise google Earth Engine\n",
        "ee.Authenticate()\n",
        "ee.Initialize(project = 'ee-amandaagambire22')\n",
        "print(\"Earth Engine Initialized\")\n"
      ],
      "metadata": {
        "id": "Z1WkSYedU3kf"
      },
      "execution_count": null,
      "outputs": []
    },
    {
      "cell_type": "markdown",
      "source": [
        "# **DATA ACQUISITION: Fetching Sentinel -2 Images**"
      ],
      "metadata": {
        "id": "9LfiF6sVVCas"
      }
    },
    {
      "cell_type": "code",
      "source": [
        "#Define Region of Interest\n",
        "ghana = ee.FeatureCollection(\"FAO/GAUL/2015/level0\") \\\n",
        "          .filter(ee.Filter.eq('ADM0_NAME', 'Ghana'))\n",
        "# Define time range\n",
        "start_date = '2023-01-01'\n",
        "end_date = '2023-12-31'\n",
        "\n",
        "# Sentinel-2 ImageCollection\n",
        "sentinel = ee.ImageCollection('COPERNICUS/S2_SR') \\\n",
        "    .filterDate(start_date, end_date) \\\n",
        "    .filterBounds(ghana) \\\n",
        "    .filter(ee.Filter.lt('CLOUDY_PIXEL_PERCENTAGE', 10)) \\\n",
        "    .median() \\\n",
        "    .clip(ghana)\n",
        "\n",
        "rgb_nir = sentinel.select(['B4', 'B3', 'B2', 'B8'])\n"
      ],
      "metadata": {
        "id": "R8ThROxJVC6s"
      },
      "execution_count": null,
      "outputs": []
    },
    {
      "cell_type": "markdown",
      "source": [
        "# **Vizulaize the Extracted images**\n"
      ],
      "metadata": {
        "id": "23YF_mloVEva"
      }
    },
    {
      "cell_type": "code",
      "source": [
        "\n",
        "Map = geemap.Map(center = [5.2, -2.1], zoom=10)\n",
        "\n",
        "\n",
        "Map.addLayer(sentinel, {'min': 0, 'max': 3000}, \"Sentinel-2 RGB\")\n",
        "# Map.addLayer(landsat_rgb, {'min': 0, 'max': 3000}, \"Landsat-8\")\n",
        "\n",
        "#Lets see it\n",
        "Map"
      ],
      "metadata": {
        "id": "Pl8lIAHqVHE3"
      },
      "execution_count": null,
      "outputs": []
    },
    {
      "cell_type": "markdown",
      "source": [
        " # **Export to Google Drive as GeoTIFF**"
      ],
      "metadata": {
        "id": "BRPeZzsK4oBV"
      }
    },
    {
      "cell_type": "code",
      "source": [
        "# task = ee.batch.Export.image.toDrive(\n",
        "#     image=rgb_nir,\n",
        "#     description='ghana_sentinel_image',\n",
        "#     folder='GEE_Exports',\n",
        "#     fileNamePrefix='ghana_rgbnir',\n",
        "#     region=ghana.geometry(),\n",
        "#     scale=10,\n",
        "#     maxPixels=1e13\n",
        "# )\n",
        "# task.start()\n"
      ],
      "metadata": {
        "id": "9g19v1cj4oia"
      },
      "execution_count": null,
      "outputs": []
    },
    {
      "cell_type": "markdown",
      "source": [
        "# **Load the GeoTIFF into Colab**"
      ],
      "metadata": {
        "id": "cKZ-hSh0VI1F"
      }
    },
    {
      "cell_type": "code",
      "source": [
        "from google.colab import drive\n",
        "drive.mount('/content/drive')\n",
        "\n",
        "import rasterio\n",
        "import matplotlib.pyplot as plt\n",
        "\n",
        "import os\n",
        "base_path = '/content/drive/MyDrive/'\n",
        "\n",
        "# Show all folders/files inside your Drive root\n",
        "# for root, dirs, files in os.walk(base_path):\n",
        "#     print(f\"\\nIn folder: {root}\")\n",
        "#     for file in files:\n",
        "#         print(file)\n",
        "\n",
        "tif_path = '/content/drive/MyDrive/galamsey_detection/ghana_rgbnir.tif'\n",
        "if not os.path.exists(tif_path):\n",
        "    raise FileNotFoundError(f\"File not found at: {tif_path}\")\n",
        "\n",
        "with rasterio.open(tif_path) as src:\n",
        "    img = src.read()  # shape: (bands, height, width)\n",
        "    profile = src.profile\n"
      ],
      "metadata": {
        "id": "CTCooMdzVMZe"
      },
      "execution_count": null,
      "outputs": []
    },
    {
      "cell_type": "markdown",
      "source": [
        "# **Feature Extraction & Visualization**"
      ],
      "metadata": {
        "id": "LLsceG94VODe"
      }
    },
    {
      "cell_type": "code",
      "source": [
        "# Band order: B4 (Red), B3 (Green), B2 (Blue), B8 (NIR)\n",
        "red, green, blue, nir = img[0], img[1], img[2], img[3]\n",
        "\n",
        "print(f\"Image shape: {img.shape}\")  # Should be (4, H, W)\n",
        "\n",
        "def normalize_band(band):\n",
        "    band = band.astype(np.float32)\n",
        "    band_min = np.nanmin(band)\n",
        "    band_max = np.nanmax(band)\n",
        "    if band_max - band_min == 0:\n",
        "        return np.zeros_like(band, dtype=np.uint8)\n",
        "    normalized = (band - band_min) / (band_max - band_min)\n",
        "    return np.clip(normalized * 255, 0, 255).astype(np.uint8)\n",
        "\n",
        "red_n = normalize_band(red)\n",
        "green_n = normalize_band(green)\n",
        "blue_n = normalize_band(blue)\n",
        "nir_raw = nir.astype(np.float32)\n",
        "nir_n = normalize_band(nir_raw)\n",
        "rgb_img = np.dstack((red_n, green_n, blue_n))#.astype(np.uint8)\n",
        "\n",
        "print(\"🚨 Raw NIR stats\")\n",
        "print(\"Min:\", np.nanmin(img[3]))\n",
        "print(\"Max:\", np.nanmax(img[3]))\n",
        "print(\"Mean:\", np.nanmean(img[3]))\n"
      ],
      "metadata": {
        "id": "YThDboNUVQMd"
      },
      "execution_count": null,
      "outputs": []
    },
    {
      "cell_type": "markdown",
      "source": [
        "# **Slice the Image into 256×256 Patches**\n",
        "### **Remove the clouds & make image clear**\n",
        "NOTE: mining activities in the study area usually cause a **removal of vegetation and thecreation of dug-outs**.\n",
        "\n",
        "Normalized Difference Vegetation Index (**NDVI**) helps detect vegetation vs. non-vegetation areas:\n",
        "\n",
        "$$NDIV = \\frac{NIR - RED}{NIR +RED}$$\n",
        "\n",
        "\n",
        "\n",
        "*   *NIR (Near-Infrared Band, B8)* = High for vegetation\n",
        "*   *RED (B4)* = Low for vegetation\n",
        "* Clouds & shadows usually have*NDVI near 0 or negative*\n"
      ],
      "metadata": {
        "id": "0-C1LILFVSJ9"
      }
    },
    {
      "cell_type": "code",
      "source": [
        "PATCH_SIZE = 256\n",
        "# H, W, _ = rgb_img.shape\n",
        "rows = []\n",
        "H, W = nir.shape\n",
        "\n",
        "for i in range(0, H - PATCH_SIZE + 1, PATCH_SIZE):\n",
        "    for j in range(0, W - PATCH_SIZE + 1, PATCH_SIZE):\n",
        "        # Raw bands for NDVI/NDWI\n",
        "        nir_patch = nir[i:i+PATCH_SIZE, j:j+PATCH_SIZE].astype(np.float32)\n",
        "        red_patch = red[i:i+PATCH_SIZE, j:j+PATCH_SIZE].astype(np.float32)\n",
        "        green_patch = green[i:i+PATCH_SIZE, j:j+PATCH_SIZE].astype(np.float32)\n",
        "\n",
        "        # RGB patch for display & GLCM\n",
        "        rgb_patch = rgb_img[i:i+PATCH_SIZE, j:j+PATCH_SIZE]\n",
        "\n",
        "        # Safety check: patch sizes\n",
        "        if rgb_patch.shape[0] != PATCH_SIZE or rgb_patch.shape[1] != PATCH_SIZE:\n",
        "            continue\n",
        "\n",
        "        # NDVI & NDWI (use raw bands)\n",
        "        ndvi = (nir_patch - red_patch) / (nir_patch + red_patch + 1e-5)\n",
        "        ndwi = (green_patch - nir_patch) / (green_patch + nir_patch + 1e-5)\n",
        "\n",
        "        if np.isnan(ndvi).all():\n",
        "            print(f\"⚠️ Skipping patch at ({i},{j}) — NDVI is all NaN\")\n",
        "            continue\n",
        "\n",
        "        # GLCM texture features\n",
        "        gray = rgb2gray(rgb_patch)\n",
        "        glcm = graycomatrix((gray * 255).astype(np.uint8),\n",
        "                            distances=[5], angles=[0],\n",
        "                            levels=256, symmetric=True, normed=True)\n",
        "\n",
        "        row = {\n",
        "            \"ndvi_mean\": np.nanmean(ndvi),\n",
        "            \"ndvi_std\": np.nanstd(ndvi),\n",
        "            \"ndwi_mean\": np.nanmean(ndwi),\n",
        "            \"ndwi_std\": np.nanstd(ndwi),\n",
        "            \"glcm_contrast\": graycoprops(glcm, 'contrast')[0, 0],\n",
        "            \"glcm_dissimilarity\": graycoprops(glcm, 'dissimilarity')[0, 0],\n",
        "            \"glcm_homogeneity\": graycoprops(glcm, 'homogeneity')[0, 0],\n",
        "            \"glcm_energy\": graycoprops(glcm, 'energy')[0, 0],\n",
        "            \"glcm_correlation\": graycoprops(glcm, 'correlation')[0, 0],\n",
        "        }\n",
        "        rows.append(row)\n",
        "\n",
        "        # Visual check: first 3 patches\n",
        "        if len(rows) <= 3:\n",
        "            plt.figure(figsize=(10, 4))\n",
        "            plt.subplot(1, 3, 1)\n",
        "            plt.imshow(rgb_patch)\n",
        "            plt.title(\"RGB Patch\")\n",
        "            plt.axis(\"off\")\n",
        "\n",
        "            plt.subplot(1, 3, 2)\n",
        "            plt.imshow(ndvi, cmap='YlGn')\n",
        "            plt.title(\"NDVI\")\n",
        "            plt.axis(\"off\")\n",
        "\n",
        "            plt.subplot(1, 3, 3)\n",
        "            plt.imshow(ndwi, cmap='Blues')\n",
        "            plt.title(\"NDWI\")\n",
        "            plt.axis(\"off\")\n",
        "            plt.tight_layout()\n",
        "            plt.show()\n",
        "\n",
        "feature_df = pd.DataFrame(rows)\n",
        "print(\"✅ Feature extraction complete.\")\n",
        "print(feature_df.head())\n"
      ],
      "metadata": {
        "id": "-EYbtxZsVUeq"
      },
      "execution_count": null,
      "outputs": []
    },
    {
      "cell_type": "markdown",
      "source": [
        "# **Visualize RGB and NDWI Map**\n",
        "This gives you three polished visuals:\n",
        "\n",
        "Natural color view\n",
        "\n",
        "Vegetation (NDVI) heatmap\n",
        "\n",
        "Water content (NDWI) heatmap"
      ],
      "metadata": {
        "id": "hmXkus4uVXQB"
      }
    },
    {
      "cell_type": "code",
      "source": [
        "fig, axs = plt.subplots(1, 3, figsize=(18, 6))\n",
        "\n",
        "# RGB composite\n",
        "rgb_img = np.dstack((red_n, green_n, blue_n))\n",
        "axs[0].imshow(rgb_img)\n",
        "axs[0].set_title(\"True Color RGB\")\n",
        "\n",
        "# NDVI\n",
        "axs[1].imshow(ndvi, cmap='YlGn')\n",
        "axs[1].set_title(\"NDVI\")\n",
        "\n",
        "# NDWI\n",
        "axs[2].imshow(ndwi, cmap='Blues')\n",
        "axs[2].set_title(\"NDWI\")\n",
        "\n",
        "for ax in axs:\n",
        "    ax.axis('off')\n",
        "\n",
        "plt.tight_layout()\n",
        "plt.show()\n"
      ],
      "metadata": {
        "id": "Dxb0S_kGVZXN"
      },
      "execution_count": null,
      "outputs": []
    },
    {
      "cell_type": "markdown",
      "source": [
        "# **Preview a few sample patches**"
      ],
      "metadata": {
        "id": "d4hKRObp5OFi"
      }
    },
    {
      "cell_type": "code",
      "source": [
        "# for idx in range(3):\n",
        "#     fig, axs = plt.subplots(1, 3, figsize=(12, 4))\n",
        "#     axs[0].imshow(patches[idx]['rgb'])\n",
        "#     axs[0].set_title(\"RGB Patch\")\n",
        "\n",
        "#     axs[1].imshow(patches[idx]['ndvi'], cmap='YlGn')\n",
        "#     axs[1].set_title(\"NDVI Patch\")\n",
        "\n",
        "#     axs[2].imshow(patches[idx]['ndwi'], cmap='Blues')\n",
        "#     axs[2].set_title(\"NDWI Patch\")\n",
        "\n",
        "#     for ax in axs:\n",
        "#         ax.axis('off')\n",
        "#     plt.tight_layout()\n",
        "#     plt.show()\n"
      ],
      "metadata": {
        "id": "m_mUwQxkVcyb"
      },
      "execution_count": null,
      "outputs": []
    },
    {
      "cell_type": "markdown",
      "source": [
        "# **Train and Evaluate a Classifier (Random Forest)**"
      ],
      "metadata": {
        "id": "q-ocX5puVfh6"
      }
    },
    {
      "cell_type": "code",
      "source": [
        "from sklearn.model_selection import train_test_split\n",
        "from sklearn.ensemble import RandomForestClassifier\n",
        "from sklearn.metrics import classification_report, confusion_matrix\n",
        "\n",
        "# Label: 1 = likely illegal mining, 0 = vegetation\n",
        "feature_df['label'] = (feature_df['ndvi_mean'] < 0.2).astype(int)\n",
        "\n",
        "# Split features and labels\n",
        "X = feature_df.drop('label', axis=1)\n",
        "y = feature_df['label']\n",
        "\n",
        "#Split into Train and Test\n",
        "X_train, X_test, y_train, y_test = train_test_split(\n",
        "    X, y, test_size=0.2, random_state=42, stratify=y\n",
        ")\n",
        "\n",
        "#Train Random Forest\n",
        "rf = RandomForestClassifier(n_estimators=100, random_state=42)\n",
        "rf.fit(X_train, y_train)\n",
        "\n",
        "#Evaluate Performance\n",
        "y_pred = rf.predict(X_test)\n",
        "\n",
        "print(\"Confusion Matrix:\\n\", confusion_matrix(y_test, y_pred))\n",
        "print(\"\\nClassification Report:\\n\", classification_report(y_test, y_pred))\n"
      ],
      "metadata": {
        "id": "wa8JUQGdVgE7"
      },
      "execution_count": null,
      "outputs": []
    },
    {
      "cell_type": "code",
      "source": [
        "import matplotlib.pyplot as plt\n",
        "import numpy as np\n",
        "\n",
        "importances = rf.feature_importances_\n",
        "indices = np.argsort(importances)[::-1]\n",
        "feat_names = X.columns\n",
        "\n",
        "plt.figure(figsize=(10, 6))\n",
        "plt.title(\"Feature Importances (Random Forest)\")\n",
        "plt.bar(range(X.shape[1]), importances[indices])\n",
        "plt.xticks(range(X.shape[1]), [feat_names[i] for i in indices], rotation=45)\n",
        "plt.tight_layout()\n",
        "plt.show()\n"
      ],
      "metadata": {
        "id": "cSs5kMox5UwI"
      },
      "execution_count": null,
      "outputs": []
    },
    {
      "cell_type": "markdown",
      "source": [
        "# **Prediction Function**"
      ],
      "metadata": {
        "id": "c6FPZXoqVi2O"
      }
    },
    {
      "cell_type": "code",
      "source": [
        "# === Step 7: Map Predictions Back to Image ===\n",
        "\n",
        "# Create blank prediction map (same H and W as image, filled with NaNs)\n",
        "pred_map = np.full((H, W), np.nan)\n",
        "\n",
        "# Reset counters\n",
        "patch_idx = 0\n",
        "\n",
        "for i in range(0, H, PATCH_SIZE):\n",
        "    for j in range(0, W, PATCH_SIZE):\n",
        "        if i + PATCH_SIZE <= H and j + PATCH_SIZE <= W:\n",
        "            # Only use patches used in training/testing (feature_df row count)\n",
        "            if patch_idx < len(feature_df):\n",
        "                label = feature_df.iloc[patch_idx]['label']\n",
        "                pred_map[i:i+PATCH_SIZE, j:j+PATCH_SIZE] = label\n",
        "                patch_idx += 1\n",
        "plt.figure(figsize=(12, 6))\n",
        "\n",
        "# RGB image (normalized)\n",
        "plt.subplot(1, 2, 1)\n",
        "plt.imshow(rgb_img)\n",
        "plt.title(\"Original RGB\")\n",
        "plt.axis('off')\n",
        "\n",
        "# Prediction heatmap\n",
        "plt.subplot(1, 2, 2)\n",
        "plt.imshow(rgb_img, alpha=0.7)\n",
        "plt.imshow(pred_map, cmap='coolwarm', alpha=0.4)  # red/blue mask\n",
        "plt.title(\"Predicted Mining Zones Overlay\")\n",
        "plt.axis('off')\n",
        "\n",
        "plt.tight_layout()\n",
        "plt.show()\n"
      ],
      "metadata": {
        "id": "BYIP2PRlVjSD"
      },
      "execution_count": null,
      "outputs": []
    },
    {
      "cell_type": "markdown",
      "source": [
        "# **Save Visualization**"
      ],
      "metadata": {
        "id": "FgiC_1sXVk4Q"
      }
    },
    {
      "cell_type": "code",
      "source": [
        "import matplotlib.pyplot as plt\n",
        "from matplotlib.colors import ListedColormap\n",
        "\n",
        "# Red = illegal mining (1), Blue = no mining (0)\n",
        "cmap = ListedColormap([\"blue\", \"red\"])\n",
        "\n",
        "fig, axs = plt.subplots(1, 2, figsize=(18, 8))\n",
        "\n",
        "# Show RGB\n",
        "axs[0].imshow(rgb_img)\n",
        "axs[0].set_title(\"RGB Image\")\n",
        "axs[0].axis(\"off\")\n",
        "\n",
        "# Show predictions\n",
        "axs[1].imshow(pred_map, cmap=cmap, alpha=0.6)\n",
        "axs[1].set_title(\"Predicted Mining Zones\")\n",
        "axs[1].axis(\"off\")\n",
        "\n",
        "plt.tight_layout()\n",
        "\n",
        "# Save as PNG to Drive\n",
        "png_path = \"/content/drive/MyDrive/galamsey_detection/mining_prediction_overlay.png\"\n",
        "plt.savefig(png_path, dpi=300)\n",
        "plt.close()\n",
        "\n",
        "print(f\"✅ PNG saved at: {png_path}\")\n"
      ],
      "metadata": {
        "id": "shrErB6rVm4E"
      },
      "execution_count": null,
      "outputs": []
    },
    {
      "cell_type": "markdown",
      "source": [
        "# **Export Prediction Map as GeoTIFF**\n"
      ],
      "metadata": {
        "id": "8_CsTwhYVoZn"
      }
    },
    {
      "cell_type": "code",
      "source": [
        "from rasterio.transform import from_origin\n",
        "\n",
        "# Prediction map is in patch format, map it back to full image size\n",
        "# We assume prediction_map already matches the spatial layout\n",
        "\n",
        "tif_output_path = \"/content/drive/MyDrive/galamsey_detection/mining_prediction.tif\"\n",
        "\n",
        "# Reuse profile from original image (change dtype and count)\n",
        "profile.update(\n",
        "    dtype=rasterio.uint8,\n",
        "    count=1,\n",
        "    compress='lzw'\n",
        ")\n",
        "\n",
        "with rasterio.open(tif_output_path, 'w', **profile) as dst:\n",
        "    dst.write(pred_map.astype(rasterio.uint8), 1)\n",
        "\n",
        "print(f\"✅ GeoTIFF saved at: {tif_output_path}\")\n"
      ],
      "metadata": {
        "id": "zPmdmCh6Vq9N"
      },
      "execution_count": null,
      "outputs": []
    }
  ]
}