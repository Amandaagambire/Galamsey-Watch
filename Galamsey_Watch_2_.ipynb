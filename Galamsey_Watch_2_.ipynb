{
  "nbformat": 4,
  "nbformat_minor": 0,
  "metadata": {
    "colab": {
      "provenance": [],
      "authorship_tag": "ABX9TyPbhoQf04pthWG4K1cOT1O/",
      "include_colab_link": true
    },
    "kernelspec": {
      "name": "python3",
      "display_name": "Python 3"
    },
    "language_info": {
      "name": "python"
    }
  },
  "cells": [
    {
      "cell_type": "markdown",
      "metadata": {
        "id": "view-in-github",
        "colab_type": "text"
      },
      "source": [
        "<a href=\"https://colab.research.google.com/github/Amandaagambire/Galamsey-Watch/blob/main/Galamsey_Watch_2_.ipynb\" target=\"_parent\"><img src=\"https://colab.research.google.com/assets/colab-badge.svg\" alt=\"Open In Colab\"/></a>"
      ]
    },
    {
      "cell_type": "code",
      "execution_count": 12,
      "metadata": {
        "colab": {
          "base_uri": "https://localhost:8080/",
          "height": 17
        },
        "id": "y7tZIyIUx1x9",
        "outputId": "c8a6e4d8-f711-4b3d-b129-4a2aeac9b6f2"
      },
      "outputs": [
        {
          "output_type": "display_data",
          "data": {
            "text/plain": [
              "<IPython.core.display.HTML object>"
            ],
            "text/html": [
              "\n",
              "            <style>\n",
              "                .geemap-dark {\n",
              "                    --jp-widgets-color: white;\n",
              "                    --jp-widgets-label-color: white;\n",
              "                    --jp-ui-font-color1: white;\n",
              "                    --jp-layout-color2: #454545;\n",
              "                    background-color: #383838;\n",
              "                }\n",
              "\n",
              "                .geemap-dark .jupyter-button {\n",
              "                    --jp-layout-color3: #383838;\n",
              "                }\n",
              "\n",
              "                .geemap-colab {\n",
              "                    background-color: var(--colab-primary-surface-color, white);\n",
              "                }\n",
              "\n",
              "                .geemap-colab .jupyter-button {\n",
              "                    --jp-layout-color3: var(--colab-primary-surface-color, white);\n",
              "                }\n",
              "            </style>\n",
              "            "
            ]
          },
          "metadata": {}
        }
      ],
      "source": [
        "\n",
        "# !pip install geemap\n",
        "# !pip install folium\n",
        "# !pip install rasterio\n",
        "# !pip install segmentation-models-pytorch\n",
        "# !pip install pyngrok\n",
        "# !pip install flask\n",
        "# !pip install earthengine-api --upgrade\n"
      ]
    },
    {
      "cell_type": "code",
      "source": [
        "# from google.colab import drive\n",
        "# import ee\n",
        "# import geemap\n",
        "# import folium\n",
        "# import rasterio\n",
        "# from PIL import Image\n",
        "# import numpy as np\n",
        "# import os\n",
        "# import numpy as np\n",
        "# from google.colab import drive\n",
        "# from skimage.color import rgb2gray\n",
        "# from skimage.feature import graycomatrix, graycoprops\n",
        "# import pandas as pd\n",
        "# import torch\n",
        "# import torch.nn as nn\n",
        "# from torchvision import transforms\n",
        "# import shutil\n",
        "# from google.colab.output import eval_js\n",
        "# from pyngrok import ngrok\n",
        "# # from flask import Flask, request, jsonify, render_template\n",
        "\n",
        "\n",
        "\n",
        "\n",
        "# # Mount Google Drive\n",
        "# drive.mount('/content/drive')\n",
        "\n",
        "# #Authenticae then initialise google Earth Engine\n",
        "# ee.Authenticate()\n",
        "# ee.Initialize(project = 'ee-amandaagambire22')\n",
        "# print(\"Earth Engine Initialized\")\n"
      ],
      "metadata": {
        "colab": {
          "base_uri": "https://localhost:8080/",
          "height": 17
        },
        "id": "FdcSDEtny3_I",
        "outputId": "90971bea-b3c1-47f7-b121-552785147559"
      },
      "execution_count": 13,
      "outputs": [
        {
          "output_type": "display_data",
          "data": {
            "text/plain": [
              "<IPython.core.display.HTML object>"
            ],
            "text/html": [
              "\n",
              "            <style>\n",
              "                .geemap-dark {\n",
              "                    --jp-widgets-color: white;\n",
              "                    --jp-widgets-label-color: white;\n",
              "                    --jp-ui-font-color1: white;\n",
              "                    --jp-layout-color2: #454545;\n",
              "                    background-color: #383838;\n",
              "                }\n",
              "\n",
              "                .geemap-dark .jupyter-button {\n",
              "                    --jp-layout-color3: #383838;\n",
              "                }\n",
              "\n",
              "                .geemap-colab {\n",
              "                    background-color: var(--colab-primary-surface-color, white);\n",
              "                }\n",
              "\n",
              "                .geemap-colab .jupyter-button {\n",
              "                    --jp-layout-color3: var(--colab-primary-surface-color, white);\n",
              "                }\n",
              "            </style>\n",
              "            "
            ]
          },
          "metadata": {}
        }
      ]
    },
    {
      "cell_type": "code",
      "source": [
        "\n",
        "# # Define location around Tarkwa\n",
        "# center = ee.Geometry.Point([-1.6183, 5.3016])\n",
        "# roi = center.buffer(10000)\n",
        "\n",
        "# # Sentinel-2 ImageCollection (updated)\n",
        "# s2 = ee.ImageCollection(\"COPERNICUS/S2_SR_HARMONIZED\") \\\n",
        "#     .filterBounds(roi) \\\n",
        "#     .filterDate(\"2022-01-01\", \"2024-01-01\") \\\n",
        "#     .filter(ee.Filter.lt('CLOUDY_PIXEL_PERCENTAGE', 10)) \\\n",
        "#     .median()\n",
        "\n",
        "# # Compute NDVI and NDWI\n",
        "# ndvi = s2.normalizedDifference(['B8', 'B4']).rename('NDVI')\n",
        "# ndwi = s2.normalizedDifference(['B3', 'B11']).rename('NDWI')\n",
        "\n",
        "# # Combine bands\n",
        "# combined = s2.select(['B2', 'B3', 'B4', 'B8', 'B11']).addBands([ndvi, ndwi])\n",
        "\n",
        "# # Create interactive map\n",
        "# Map = geemap.Map(center=[5.2, -2.1], zoom=10)\n",
        "# Map.centerObject(roi, 11)\n",
        "\n",
        "# # Add layers\n",
        "# Map.addLayer(combined, {'bands': ['B4', 'B3', 'B2'], 'min': 0, 'max': 3000}, 'True Color')\n",
        "# Map.addLayer(ndvi, {'min': -1, 'max': 1, 'palette': ['white', 'green']}, 'NDVI')\n",
        "# Map.addLayer(ndwi, {'min': -1, 'max': 1, 'palette': ['white', 'blue']}, 'NDWI')\n",
        "# Map\n"
      ],
      "metadata": {
        "colab": {
          "base_uri": "https://localhost:8080/",
          "height": 17
        },
        "id": "f-58qVE8y5Px",
        "outputId": "7a51f4ee-eece-4dc5-d005-b9e885f29f80"
      },
      "execution_count": 14,
      "outputs": [
        {
          "output_type": "display_data",
          "data": {
            "text/plain": [
              "<IPython.core.display.HTML object>"
            ],
            "text/html": [
              "\n",
              "            <style>\n",
              "                .geemap-dark {\n",
              "                    --jp-widgets-color: white;\n",
              "                    --jp-widgets-label-color: white;\n",
              "                    --jp-ui-font-color1: white;\n",
              "                    --jp-layout-color2: #454545;\n",
              "                    background-color: #383838;\n",
              "                }\n",
              "\n",
              "                .geemap-dark .jupyter-button {\n",
              "                    --jp-layout-color3: #383838;\n",
              "                }\n",
              "\n",
              "                .geemap-colab {\n",
              "                    background-color: var(--colab-primary-surface-color, white);\n",
              "                }\n",
              "\n",
              "                .geemap-colab .jupyter-button {\n",
              "                    --jp-layout-color3: var(--colab-primary-surface-color, white);\n",
              "                }\n",
              "            </style>\n",
              "            "
            ]
          },
          "metadata": {}
        }
      ]
    }
  ]
}