# 🚀 Galamsey Detection with Google Earth Engine

[![Open In Colab](https://colab.research.google.com/assets/colab-badge.svg)](https://colab.research.google.com/github/YOUR_USERNAME/YOUR_REPO/blob/main/YOUR_NOTEBOOK.ipynb)

## Description

This project uses Sentinel-2 satellite imagery and machine learning (U-Net + NDVI/NDWI indices) to detect illegal mining activity in Western Ghana. Focused areas include Tarkwa, Prestea, Obuasi, and Diaso.

## Features

- Sentinel-2 visualization (RGB, NDVI, NDWI)
- Geospatial patch extraction
- Deep learning pipeline (U-Net segmentation)
- Interactive map and exportable results

## Preview

<img src="docs/example_visual.png" width="600"/>

---
